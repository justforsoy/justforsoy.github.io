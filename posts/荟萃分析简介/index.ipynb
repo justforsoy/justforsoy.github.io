{
 "cells": [
  {
   "cell_type": "raw",
   "metadata": {},
   "source": [
    "---\n",
    "title: 荟萃分析简介\n",
    "date: '2021-05-12 '\n",
    "categories:\n",
    "  - AB\n",
    "  - 假设检验\n",
    "  - 旧文迁移\n",
    "---"
   ]
  },
  {
   "cell_type": "markdown",
   "metadata": {},
   "source": [
    "进行线上ab实验时，为了确认结果可信，用户常常会复验前一阶段的实验。此时经常遇到复验与原实验结果不完全统一，如何综合评估实验效果？荟萃分析可以解决此类问题。\n",
    "本文仅简介固定效果假设下关于P值合并的部分。\n",
    "\n",
    "# 什么是荟萃分析\n",
    "通过统计学方法将**多次实验结果合并**进行分析。\n",
    "\n",
    "# 为什么需要荟萃分析\n",
    "当存在多个针对同一问题的科学研究时，每个单独的研究报告的测量结果都可能存在一定程度的误差。通过合理的方式将多次实验结果合并，**理论上会有更接近真实的评估**。\n",
    "\n",
    "# 可以解决什么样的问题\n",
    "\n",
    "1. 单次实验power不足\n",
    "    由于种种限制，可能没办法单次实验中提供充足的样本。对其重复实验并进行荟萃可以得到更大的power。\n",
    "2. 降低假阳性\n",
    "    常常第一次实验显著，而复验实验并不显著，那么干预是否有效果？荟萃分析提供了科学的方法进行分析，降低了可能的主观选择性偏差。\n",
    "\n",
    "# 常用方法\n",
    "\n",
    "## **Fisher's method**\n",
    "\n",
    "如果两次实验p值分别为p1、p2。进行在零假设时，它们独立，并服从0~1的均匀分布，则两次实验合并的p值为：\n",
    "$$p = \\int_{x * y = p1 * p2, 0< x,y<1 }1dxdy = p1*p2(1 - log(p1 * p2))$$\n",
    "\n",
    "Fisher将其扩展到更一般场景，对k次实验结果进行合并后服从自由度为2k的卡方分布：\n",
    "$$-2\\sum_{i = 1}^klog(p_i)  \\sim  \\chi^2(2k)$$\n",
    "\n",
    "![](1.webp)    \n",
    "\n",
    "## **Stouffer’s method(z值合并)**\n",
    "此处直接介绍加权的方法。    \n",
    "先将$p_i$值逆计算为$z_i$，则$z_i \\sim N(0, 1)$。多个$zi$加权相加后，依然服从正态分布，则：\n",
    "$$P_Z = 1 - \\Phi(\\frac{\\sum w_i Z_i}{\\sqrt{\\sum w_i ^ 2}})$$\n",
    "\n",
    "为什么会有权重呢？假如每次实验重视程度不同，那么它们结果按重要性来加权是很自然的。 \n",
    "       \n",
    "**如何选择权重**？如果实验干预、受众相同，建议使用样本量的平方根做权重。   \n",
    " \n",
    "> 单样本两次实验的例子：    \n",
    "检验$\\Delta$是否为0，做了两次实验分别采集到$\\delta_1,\\delta_2$，样本量为$n_1, n2$，样本方差同为$\\sigma^2$，此时如果$w_1 = \\sqrt{n_1},w2 = \\sqrt{n_2} $，则可推出    \n",
    "$\\frac{\\sum w_i Z_i}{\\sqrt{\\sum w_i ^ 2}} = (\\delta_1*n_1 + \\delta_2 * n_2) /(n_1 + n_2) /  \\sqrt{\\frac{\\sigma^2}{n_1 + n_2}} = Z$\n",
    "即两次实验结果，与将原数据汇总计算结果相同。\n",
    "\n",
    "# 荟萃方法比较\n",
    "[Whitlock, 2005](https://www.ncbi.nlm.nih.gov/pmc/articles/PMC3135688/#R10)的研究表明，上述两种荟萃方法，具有相同的假阳性控制水平，但是加权Z值合并法有更高的功效\n",
    "![](2.webp)\n",
    "\n",
    "# 总结\n",
    "这种方法的主要好处是信息的汇总，比任何单独研究得出的指标所能提供的[统计能力](https://en.wikipedia.org/wiki/Statistical_power \"统计功效\")和点估计值都更高。\n",
    "但是对几个小型研究的荟萃分析并不总是能预测单个大型研究的结果。该方法的一个缺点是偏倚的来源不受该方法的控制：良好的荟萃分析不能纠正原始研究中不良的设计或偏倚。这意味着在荟萃分析中只应包括方法论上合理的研究，这种实践称为“最佳证据综合”。\n",
    "\n"
   ]
  },
  {
   "cell_type": "markdown",
   "metadata": {},
   "source": []
  }
 ],
 "metadata": {
  "kernelspec": {
   "display_name": "Python 3",
   "language": "python",
   "name": "python3"
  },
  "language_info": {
   "codemirror_mode": {
    "name": "ipython",
    "version": 3
   },
   "file_extension": ".py",
   "mimetype": "text/x-python",
   "name": "python",
   "nbconvert_exporter": "python",
   "pygments_lexer": "ipython3",
   "version": "3.11.6"
  }
 },
 "nbformat": 4,
 "nbformat_minor": 2
}
