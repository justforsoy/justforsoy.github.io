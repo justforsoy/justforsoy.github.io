{
 "cells": [
  {
   "cell_type": "raw",
   "metadata": {},
   "source": [
    "---\n",
    "title: AB实验异质性效果评估总览\n",
    "date: '2024-01-06'\n",
    "categories:\n",
    "  - AB\n",
    "draft: true\n",
    "---"
   ]
  },
  {
   "cell_type": "markdown",
   "metadata": {},
   "source": [
    "示例：假设一个在线广告提供商希望确定从静态文本广告转变为短视频广告对网站流量的影响。对于实验组，网站流量似乎在除Safari用户之外的所有用户中都有均匀增长。因此，广告团队希望在浏览器级别估计处理效果。同样，观察到用户参与度指标的提升后，广告团队可能希望进行事后分析，以确定这种增长是否对所有用户大致相同，或者可能集中在某些用户段内（如由市场/国家、用户活动水平、设备/平台类型和时间定义的用户段）。\n",
    "    \n",
    "对于与总体平均处理效应（ATE）不同的亚组的处理效应，被称为异质性处理效应（HTE），这在在线控制实验（OCEs）中常常引起关注。     \n",
    "识别和解释这种异质性对于商业应用至关重要。例如，从业者可能对估计不同设备或浏览器类型的处理效应，或者不同年龄的用户，或者生活在世界不同地方的用户的处理效应感兴趣。对于希望开发个性化体验，或者检测错误，或者与其他实验的交互的人来说，识别和估计HTEs也是一个关注点。    \n",
    "估计HTEs有三个关键的挑战：(a)实验效应弱通常使在线研究的power不足，导致亚组效应的假阴性率高；(b)由于多重比较，测试HTEs往往有风险导致一类错误率上升；(c)在用户没有被随机分配到比较的亚组时，会出现相关性和因果关系之间的问题。下面我们将回顾在OCEs中常用的解决这些问题的方法。    \n",
    "    \n",
    "异质治疗效应在统计理论和应用中有着丰富的历史 (Robinson Citation1988; Zhao et al. Citation2012; Imai and Ratkovic Citation2013; Athey and Imbens Citation2016; Wager and Athey Citation2018; Tran and Zheleva Citation2019)。下面重点关注线上实验相关的资料。  \n",
    "假设每个个体 $i$ 都有干预/非干预下的潜在输出 ${Y_i(1), Y_i(0)}$ 和 实验干预前的变量 $X_i$ ，$e(x) = Pr(W_i = 1 | X_i = x)$ 是指定协变量下个体被干预的概率。对随机实验来说，$e(x)$ 是已知的且与 $x$ 独立，观察性分析下是未知的。一般认为 HTEs 服从一下假设：(1) SUTVA (2) 无混杂。"
   ]
  },
  {
   "cell_type": "raw",
   "metadata": {},
   "source": []
  },
  {
   "cell_type": "markdown",
   "metadata": {},
   "source": []
  }
 ],
 "metadata": {
  "language_info": {
   "name": "python"
  }
 },
 "nbformat": 4,
 "nbformat_minor": 2
}
