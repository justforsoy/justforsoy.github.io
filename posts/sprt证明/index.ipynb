{
 "cells": [
  {
   "cell_type": "raw",
   "metadata": {},
   "source": [
    "---\n",
    "title: SPRT可控制两种错误的证明\n",
    "date: '2021-11-27'\n",
    "categories:\n",
    "  - AB\n",
    "  - 序贯检验\n",
    "  - 假设检验\n",
    "  - 旧文迁移\n",
    "---"
   ]
  },
  {
   "cell_type": "markdown",
   "metadata": {},
   "source": [
    "## 1. SPRT简介\n",
    "SPRT是在二战中由Wald发明的，最初用于检验炮弹质量。    \n",
    "    \n",
    "如果X1, X2,...是iid的分布为P的随机变量，H0 : P = P0， H1：P= P1    \n",
    "SPRT抽样数量为：    \n",
    "$N = inf\\{n \\ge 1: R_n \\geq A\\ or\\ R_n \\leq B \\}$    \n",
    "其中A > 1 > B > 0，被称为停止边界，根据α、β选取。        \n",
    "其中Rn为似然比：    \n",
    "$R_n = \\prod_{i=1}^{n}\\frac{f_1(X_i)}{f_0(X_i)}$    \n",
    "RN >= A时接受H1，RN <= B时接受H0。    \n",
    "\n",
    "## 2. 鞅的定义\n",
    "设X和Y是两个随机过程，满足以下条件则过程X是关于Y的鞅。    \n",
    "若对每个n >=0 :    \n",
    "(1) E(|Xn|) < 无穷    \n",
    "(2) Xn是Y0, Y1, ... Yn的函数    \n",
    "(3) E(Xn+1 | Y0,...Yn) = Xn    \n",
    "![](1.webp)\n",
    "\n",
    "## 3. Doob's martingale inequality\n",
    "设{Xn; n >=0} 为鞅或非负下鞅，那么：    \n",
    "$P(\\sup_{0<k<n}|X_k| \\ge C) \\leq  \\frac{ E( |X_n|)}{C}$    \n",
    "\n",
    "## 4. 一类错误被控制的证明\n",
    "此时H0为真时，则：    \n",
    "###  (1) 似然比过程是一个鞅\n",
    "$E(R_{1} | X_1) = \\int^{+\\infty}_{{-\\infty}}\\frac{f_1(x_{1})}{f_0(x_{1})}{f_0(x_{1})}dx = 1$    \n",
    "$E(R_{n+1} | X_1,..X_n) = E(R_n\\frac{f_1(X_{n + 1})}{f_0(X_{n+1})}) = R_nE(\\frac{f_1(X_{n + 1})}{f_0(X_{n+1})}) = R_n\\int^{+\\infty}_{{-\\infty}}\\frac{f_1(x_{n + 1})}{f_0(x_{n+1})}{f_0(x_{n+1})}dx \\\\= R_n$    \n",
    "### (2) 带入Doob's martingale inequality\n",
    "$P(\\sup_{0<i<n}|R_n| \\ge \\frac{1}{\\alpha}) \\leq \\frac{E(|R_n|)}{\\frac{1}{\\alpha}} = \\alpha$    \n",
    "## 其他\n",
    "同理也可以证明H1为真时，对二类错误的控制是正确的。    \n",
    "mSPRT使用分部积分法展开，也可以用类似的过程证明。    \n",
    "\n",
    "PS：欢迎对ab testing希望知其然知其所以然的朋友私信我，交个朋友以后共同探讨。    \n"
   ]
  },
  {
   "cell_type": "markdown",
   "metadata": {},
   "source": []
  }
 ],
 "metadata": {
  "kernelspec": {
   "display_name": "Python 3",
   "language": "python",
   "name": "python3"
  },
  "language_info": {
   "codemirror_mode": {
    "name": "ipython",
    "version": 3
   },
   "file_extension": ".py",
   "mimetype": "text/x-python",
   "name": "python",
   "nbconvert_exporter": "python",
   "pygments_lexer": "ipython3",
   "version": "3.11.6"
  }
 },
 "nbformat": 4,
 "nbformat_minor": 2
}
